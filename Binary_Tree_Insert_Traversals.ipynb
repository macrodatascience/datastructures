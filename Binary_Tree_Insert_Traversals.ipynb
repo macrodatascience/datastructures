{
  "nbformat": 4,
  "nbformat_minor": 0,
  "metadata": {
    "colab": {
      "name": "Binary Tree - Insert - Traversals.ipynb",
      "provenance": [],
      "authorship_tag": "ABX9TyNf7Fl9OBixso9fq25+fYKF",
      "include_colab_link": true
    },
    "kernelspec": {
      "name": "python3",
      "display_name": "Python 3"
    },
    "language_info": {
      "name": "python"
    }
  },
  "cells": [
    {
      "cell_type": "markdown",
      "metadata": {
        "id": "view-in-github",
        "colab_type": "text"
      },
      "source": [
        "<a href=\"https://colab.research.google.com/github/macrodatascience/datastructures/blob/main/Binary_Tree_Insert_Traversals.ipynb\" target=\"_parent\"><img src=\"https://colab.research.google.com/assets/colab-badge.svg\" alt=\"Open In Colab\"/></a>"
      ]
    },
    {
      "cell_type": "markdown",
      "source": [
        "# Trees represents nodes connected by edges\n",
        "# Non-linear Data Structure\n",
        "# One Node is marked as Root Node\n",
        "# Every other Node is associated with One Parent Node\n",
        "# Each Node can have n number of Child Nodes"
      ],
      "metadata": {
        "id": "V6lG2fpye6Hy"
      }
    },
    {
      "cell_type": "markdown",
      "source": [
        "# Tree Data Structure \n",
        "\n",
        "# Create Node Class and assign a value  to the Node"
      ],
      "metadata": {
        "id": "RzZewN4gfPNG"
      }
    },
    {
      "cell_type": "code",
      "source": [
        "class Node:\n",
        "  \n",
        "  def __init__(self, data):\n",
        "    self.left = None\n",
        "    self.right = None\n",
        "    self.data = data\n",
        "  \n",
        "  def printTree(self):\n",
        "    print(self.data)\n",
        "\n",
        "root = Node(10)\n",
        "root.printTree()\n"
      ],
      "metadata": {
        "colab": {
          "base_uri": "https://localhost:8080/"
        },
        "id": "mrnbojrLfOiJ",
        "outputId": "149a4910-cc85-4340-b6b5-7458658fcae3"
      },
      "execution_count": null,
      "outputs": [
        {
          "output_type": "stream",
          "name": "stdout",
          "text": [
            "10\n"
          ]
        }
      ]
    },
    {
      "cell_type": "code",
      "source": [
        "id(root), id(Node)"
      ],
      "metadata": {
        "colab": {
          "base_uri": "https://localhost:8080/"
        },
        "id": "6659Du9yfpJa",
        "outputId": "1a0571c4-10df-45d9-d495-def51a8ca79d"
      },
      "execution_count": null,
      "outputs": [
        {
          "output_type": "execute_result",
          "data": {
            "text/plain": [
              "(140160747871504, 94334001069600)"
            ]
          },
          "metadata": {},
          "execution_count": 3
        }
      ]
    },
    {
      "cell_type": "code",
      "source": [
        "root2 = Node(30)\n",
        "root2.printTree()\n",
        "print(id(root2), id(Node))"
      ],
      "metadata": {
        "colab": {
          "base_uri": "https://localhost:8080/"
        },
        "id": "JJw_AzGhfsLu",
        "outputId": "6bc28f3d-978c-4379-8607-99f39987b2fa"
      },
      "execution_count": null,
      "outputs": [
        {
          "output_type": "stream",
          "name": "stdout",
          "text": [
            "30\n",
            "140160588301712 94334001069600\n"
          ]
        }
      ]
    },
    {
      "cell_type": "code",
      "source": [
        "type(Node), type(root2), type(root)"
      ],
      "metadata": {
        "colab": {
          "base_uri": "https://localhost:8080/"
        },
        "id": "fnzVgo3KfzS3",
        "outputId": "f615750f-13ab-45a4-f21d-a1cf80f07652"
      },
      "execution_count": null,
      "outputs": [
        {
          "output_type": "execute_result",
          "data": {
            "text/plain": [
              "(type, __main__.Node, __main__.Node)"
            ]
          },
          "metadata": {},
          "execution_count": 8
        }
      ]
    },
    {
      "cell_type": "markdown",
      "source": [
        "# Inserting into a Tree"
      ],
      "metadata": {
        "id": "gGt16VwEgFy5"
      }
    },
    {
      "cell_type": "code",
      "source": [
        "class Node:\n",
        "\n",
        "  def __init__(self, data):\n",
        "    self.left = None\n",
        "    self.right = None\n",
        "    self.data = data\n",
        "\n",
        "  def insert(self, data):\n",
        "    if self.data:\n",
        "      if data < self.data:\n",
        "        if self.left is None:\n",
        "          self.left = Node(data)\n",
        "        else:\n",
        "          self.left.insert(data)\n",
        "      elif data > self.data:\n",
        "        if self.right is None:\n",
        "          self.right = Node(data)\n",
        "        else:\n",
        "          self.right.insert(data)\n",
        "    else:\n",
        "      self.data = data\n",
        "\n",
        "  def printTree(self):\n",
        "    if self.left:\n",
        "      self.left.printTree()\n",
        "    print(self.data)\n",
        "    if self.right:\n",
        "      self.right.printTree()\n",
        "\n",
        "  def inorderTraversal(self, root):\n",
        "    res = []\n",
        "    if root:\n",
        "      res = res + self.inorderTraversal(root.left)\n",
        "      res.append(root.data)      \n",
        "      res = res + self.inorderTraversal(root.right)\n",
        "    return res\n",
        "\n",
        "  def preorderTraversal(self, root):\n",
        "    res = []\n",
        "    if root:\n",
        "      res.append(root.data)\n",
        "      res = res + self.preorderTraversal(root.left)\n",
        "      res = res + self.preorderTraversal(root.right)\n",
        "    return res\n",
        "\n",
        "  def postorderTraversal(self, root):\n",
        "    res = []\n",
        "    if root:\n",
        "      res = res + self.postorderTraversal(root.left)\n",
        "      res = res + self.postorderTraversal(root.right)\n",
        "      res.append(root.data)    \n",
        "      print(res,\"->\")\n",
        "    return res"
      ],
      "metadata": {
        "id": "Qdx4jhSmf5YI"
      },
      "execution_count": 40,
      "outputs": []
    },
    {
      "cell_type": "code",
      "source": [
        "root = Node(16)\n",
        "root.insert(20)\n",
        "root.insert(15)\n",
        "root.insert(10)\n",
        "root.insert(9)\n",
        "root.insert(25)\n",
        "root.insert(8)\n",
        "root.insert(5)\n",
        "root.insert(30)\n",
        "root.insert(40)\n",
        "root.insert(11)\n",
        "root.insert(12)\n",
        "# root.printTree()\n",
        "root.postorderTraversal(root)"
      ],
      "metadata": {
        "colab": {
          "base_uri": "https://localhost:8080/"
        },
        "id": "pbokBYxuhI0c",
        "outputId": "f76ae19a-7a32-4605-d4b1-4a9658ebc130"
      },
      "execution_count": 42,
      "outputs": [
        {
          "output_type": "stream",
          "name": "stdout",
          "text": [
            "[5] ->\n",
            "[5, 8] ->\n",
            "[5, 8, 9] ->\n",
            "[12] ->\n",
            "[12, 11] ->\n",
            "[5, 8, 9, 12, 11, 10] ->\n",
            "[5, 8, 9, 12, 11, 10, 15] ->\n",
            "[40] ->\n",
            "[40, 30] ->\n",
            "[40, 30, 25] ->\n",
            "[40, 30, 25, 20] ->\n",
            "[5, 8, 9, 12, 11, 10, 15, 40, 30, 25, 20, 16] ->\n"
          ]
        },
        {
          "output_type": "execute_result",
          "data": {
            "text/plain": [
              "[5, 8, 9, 12, 11, 10, 15, 40, 30, 25, 20, 16]"
            ]
          },
          "metadata": {},
          "execution_count": 42
        }
      ]
    },
    {
      "cell_type": "code",
      "source": [
        "root.inorderTraversal(root)"
      ],
      "metadata": {
        "id": "cPcdcc0UhSdN",
        "colab": {
          "base_uri": "https://localhost:8080/"
        },
        "outputId": "ddb7264c-a98f-4ffa-cecf-6e98a7bf534e"
      },
      "execution_count": 25,
      "outputs": [
        {
          "output_type": "execute_result",
          "data": {
            "text/plain": [
              "[5, 8, 9, 10, 11, 12, 15, 16, 20, 25, 30, 40]"
            ]
          },
          "metadata": {},
          "execution_count": 25
        }
      ]
    },
    {
      "cell_type": "code",
      "source": [
        "root.preorderTraversal(root)"
      ],
      "metadata": {
        "colab": {
          "base_uri": "https://localhost:8080/"
        },
        "id": "mmnL0JpVLoOn",
        "outputId": "199e5643-bd87-4c82-c15c-f6c282556456"
      },
      "execution_count": 26,
      "outputs": [
        {
          "output_type": "execute_result",
          "data": {
            "text/plain": [
              "[16, 15, 10, 9, 8, 5, 11, 12, 20, 25, 30, 40]"
            ]
          },
          "metadata": {},
          "execution_count": 26
        }
      ]
    },
    {
      "cell_type": "code",
      "source": [
        "root.postorderTraversal(root)"
      ],
      "metadata": {
        "colab": {
          "base_uri": "https://localhost:8080/"
        },
        "id": "wBBiwhxtL10i",
        "outputId": "b69d1831-6b33-44df-b0e9-d43897b7a4e7"
      },
      "execution_count": 27,
      "outputs": [
        {
          "output_type": "execute_result",
          "data": {
            "text/plain": [
              "[5, 8, 9, 12, 11, 10, 15, 40, 30, 25, 20, 16]"
            ]
          },
          "metadata": {},
          "execution_count": 27
        }
      ]
    },
    {
      "cell_type": "markdown",
      "source": [
        "# Inorder Traversal\n",
        "# Left -> Root -> Right# \n",
        "\n",
        "# Preorder Traversal\n",
        "# ** Root -> Left -> Right **\n",
        "\n",
        "# Postorder Traveral\n",
        "# Left -> Right -> Root"
      ],
      "metadata": {
        "id": "HHk544EWRlMg"
      }
    },
    {
      "cell_type": "code",
      "source": [
        "# Definition for a binary tree node.\n",
        "class TreeNode:\n",
        "  def __init__(self, val=0, left=None, right=None):\n",
        "      self.val = val\n",
        "      self.left = left\n",
        "      self.right = right"
      ],
      "metadata": {
        "id": "c2a-c9S2Vcjy"
      },
      "execution_count": 56,
      "outputs": []
    },
    {
      "cell_type": "code",
      "source": [
        "# Definition for a binary tree node.\n",
        "class TreeNode:\n",
        "  def __init__(self, val=0, left=None, right=None):\n",
        "      self.val = val\n",
        "      self.left = left\n",
        "      self.right = right\n",
        "\n",
        "  def insertNode(self, val):\n",
        "\n",
        "    if self.val:\n",
        "      if val < self.val:\n",
        "        if self.left is None:\n",
        "          self.left = TreeNode(val)\n",
        "        else:\n",
        "            self.left.insertNode(val) \n",
        "      elif val > self.val:\n",
        "        if self.right is None:\n",
        "         self.right = TreeNode(val)\n",
        "        else:\n",
        "         self.right.insertNode(val)\n",
        "    else:\n",
        "        self.val = val"
      ],
      "metadata": {
        "id": "cMh2iU-mDCya"
      },
      "execution_count": 59,
      "outputs": []
    },
    {
      "cell_type": "code",
      "source": [
        "root = TreeNode(16)\n",
        "root.insertNode(20)\n",
        "root.insertNode(15)\n",
        "root.insertNode(10)\n",
        "root.insertNode(9)\n",
        "root.insertNode(25)\n",
        "root.insertNode(8)\n",
        "root.insertNode(5)\n",
        "root.insertNode(30)\n",
        "root.insertNode(40)\n",
        "root.insertNode(11)\n",
        "root.insertNode(12)"
      ],
      "metadata": {
        "id": "w8NukMi5TvQk"
      },
      "execution_count": 60,
      "outputs": []
    },
    {
      "cell_type": "code",
      "source": [
        "class Solution(TreeNode):\n",
        "    def inorderTraversal(self, root):\n",
        "        res = []\n",
        "        if root:\n",
        "          res = res + self.inorderTraversal(root.left)\n",
        "          res.append(root.val)\n",
        "          res = res + self.inorderTraversal(root.right)\n",
        "        return res  \n",
        "\n",
        "    def preorderTraversal(self, root):\n",
        "        res = []\n",
        "        if root:\n",
        "          res.append(root.val)          \n",
        "          res = res + self.inorderTraversal(root.left)\n",
        "          res = res + self.inorderTraversal(root.right)         \n",
        "        return res  \n",
        "\n",
        "    def postorderTraversal(self, root):\n",
        "        res = []\n",
        "        if root:\n",
        "          res = res + self.inorderTraversal(root.left)\n",
        "          res = res + self.inorderTraversal(root.right)          \n",
        "          res.append(root.val)\n",
        "        return res  "
      ],
      "metadata": {
        "id": "bSlyt6VHTr_P"
      },
      "execution_count": 68,
      "outputs": []
    },
    {
      "cell_type": "code",
      "source": [
        "b = Solution(root)\n",
        "print(\"Inorder traveral ->\", b.inorderTraversal(root))\n",
        "print(\"Preorder traveral ->\", b.preorderTraversal(root))\n",
        "print(\"Postorder traveral ->\", b.postorderTraversal(root))\n"
      ],
      "metadata": {
        "colab": {
          "base_uri": "https://localhost:8080/"
        },
        "id": "rQbHBw_XWaIp",
        "outputId": "a2d218e0-7484-46dd-e802-296fb0224ef6"
      },
      "execution_count": 69,
      "outputs": [
        {
          "output_type": "stream",
          "name": "stdout",
          "text": [
            "Inorder traveral -> [5, 8, 9, 10, 11, 12, 15, 16, 20, 25, 30, 40]\n",
            "Preorder traveral -> [16, 5, 8, 9, 10, 11, 12, 15, 20, 25, 30, 40]\n",
            "Postorder traveral -> [5, 8, 9, 10, 11, 12, 15, 20, 25, 30, 40, 16]\n"
          ]
        }
      ]
    },
    {
      "cell_type": "code",
      "source": [
        ""
      ],
      "metadata": {
        "id": "zrUeGFVmWh3d"
      },
      "execution_count": null,
      "outputs": []
    }
  ]
}