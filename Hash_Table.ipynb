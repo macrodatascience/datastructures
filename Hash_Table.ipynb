{
  "nbformat": 4,
  "nbformat_minor": 0,
  "metadata": {
    "colab": {
      "name": "Hash Table.ipynb",
      "provenance": []
    },
    "kernelspec": {
      "name": "python3",
      "display_name": "Python 3"
    },
    "language_info": {
      "name": "python"
    }
  },
  "cells": [
    {
      "cell_type": "code",
      "execution_count": 6,
      "metadata": {
        "id": "gw9m5a0Avier"
      },
      "outputs": [],
      "source": [
        "dict1 = {'India':['Delhi','Mumbai','Calcutta', 'Madras', 'Hyderabad'], \n",
        "        'China': ['Beijing', 'Shanghai', 'Guangzhou', 'Shenzhen', 'Chengdu'],\n",
        "        'USA':['New York', 'Los Angeles', 'Chicago', 'Houston', 'Dallas']}"
      ]
    },
    {
      "cell_type": "code",
      "source": [
        "dict1"
      ],
      "metadata": {
        "colab": {
          "base_uri": "https://localhost:8080/"
        },
        "id": "yckw04L_wg9o",
        "outputId": "6e268a88-9e52-4dd7-93b6-2b34117785b1"
      },
      "execution_count": 7,
      "outputs": [
        {
          "output_type": "execute_result",
          "data": {
            "text/plain": [
              "{'China': ['Beijing', 'Shanghai', 'Guangzhou', 'Shenzhen', 'Chengdu'],\n",
              " 'India': ['Delhi', 'Mumbai', 'Calcutta', 'Madras', 'Hyderabad'],\n",
              " 'USA': ['New York', 'Los Angeles', 'Chicago', 'Houston', 'Dallas']}"
            ]
          },
          "metadata": {},
          "execution_count": 7
        }
      ]
    },
    {
      "cell_type": "code",
      "source": [
        "import random\n",
        "random.random()"
      ],
      "metadata": {
        "colab": {
          "base_uri": "https://localhost:8080/"
        },
        "id": "1822stALwhW6",
        "outputId": "7f0a8b3e-80e2-43f1-a6f6-2ca495cbc613"
      },
      "execution_count": 5,
      "outputs": [
        {
          "output_type": "execute_result",
          "data": {
            "text/plain": [
              "0.286797224163568"
            ]
          },
          "metadata": {},
          "execution_count": 5
        }
      ]
    },
    {
      "cell_type": "code",
      "source": [
        "dict1['India']"
      ],
      "metadata": {
        "colab": {
          "base_uri": "https://localhost:8080/"
        },
        "id": "0SxIEytPxdgd",
        "outputId": "01f77927-b0a6-4204-fb3f-6c5310d84b83"
      },
      "execution_count": 8,
      "outputs": [
        {
          "output_type": "execute_result",
          "data": {
            "text/plain": [
              "['Delhi', 'Mumbai', 'Calcutta', 'Madras', 'Hyderabad']"
            ]
          },
          "metadata": {},
          "execution_count": 8
        }
      ]
    },
    {
      "cell_type": "code",
      "source": [
        "dict1['India'][0]"
      ],
      "metadata": {
        "colab": {
          "base_uri": "https://localhost:8080/",
          "height": 35
        },
        "id": "HSv94hOH1OhJ",
        "outputId": "50b97aa2-27b0-4b72-9934-75ce001df25f"
      },
      "execution_count": 9,
      "outputs": [
        {
          "output_type": "execute_result",
          "data": {
            "application/vnd.google.colaboratory.intrinsic+json": {
              "type": "string"
            },
            "text/plain": [
              "'Delhi'"
            ]
          },
          "metadata": {},
          "execution_count": 9
        }
      ]
    },
    {
      "cell_type": "code",
      "source": [
        "# Updating Dict\n",
        "\n",
        "dict1['Colombia'] = ['Bogota', 'Medellin', 'Cali', 'Cartagena']\n",
        "dict1"
      ],
      "metadata": {
        "colab": {
          "base_uri": "https://localhost:8080/"
        },
        "id": "7UmySTt11RQD",
        "outputId": "eb45d5c9-62b1-4c64-f50c-5163b8882969"
      },
      "execution_count": 10,
      "outputs": [
        {
          "output_type": "execute_result",
          "data": {
            "text/plain": [
              "{'China': ['Beijing', 'Shanghai', 'Guangzhou', 'Shenzhen', 'Chengdu'],\n",
              " 'Colombia': ['Bogota', 'Medellin', 'Cali', 'Cartagena'],\n",
              " 'India': ['Delhi', 'Mumbai', 'Calcutta', 'Madras', 'Hyderabad'],\n",
              " 'USA': ['New York', 'Los Angeles', 'Chicago', 'Houston', 'Dallas']}"
            ]
          },
          "metadata": {},
          "execution_count": 10
        }
      ]
    },
    {
      "cell_type": "code",
      "source": [
        "dict1['Colombia'].append('San Andres')\n",
        "dict1"
      ],
      "metadata": {
        "colab": {
          "base_uri": "https://localhost:8080/"
        },
        "id": "e78Mzlh71cbZ",
        "outputId": "90b95948-c670-41b1-9bf3-e5ed3496ac5e"
      },
      "execution_count": 12,
      "outputs": [
        {
          "output_type": "execute_result",
          "data": {
            "text/plain": [
              "{'China': ['Beijing', 'Shanghai', 'Guangzhou', 'Shenzhen', 'Chengdu'],\n",
              " 'Colombia': ['Bogota', 'Medellin', 'Cali', 'Cartagena', 'San Andres'],\n",
              " 'India': ['Delhi', 'Mumbai', 'Calcutta', 'Madras', 'Hyderabad'],\n",
              " 'USA': ['New York', 'Los Angeles', 'Chicago', 'Houston', 'Dallas']}"
            ]
          },
          "metadata": {},
          "execution_count": 12
        }
      ]
    },
    {
      "cell_type": "code",
      "source": [
        "del dict1['Colombia']"
      ],
      "metadata": {
        "id": "6IpkSKO02TiK"
      },
      "execution_count": 13,
      "outputs": []
    },
    {
      "cell_type": "code",
      "source": [
        "dict1"
      ],
      "metadata": {
        "colab": {
          "base_uri": "https://localhost:8080/"
        },
        "id": "BIBYnoQU2b96",
        "outputId": "0e60b5c4-9c40-489e-ff3c-08427f01187d"
      },
      "execution_count": 14,
      "outputs": [
        {
          "output_type": "execute_result",
          "data": {
            "text/plain": [
              "{'China': ['Beijing', 'Shanghai', 'Guangzhou', 'Shenzhen', 'Chengdu'],\n",
              " 'India': ['Delhi', 'Mumbai', 'Calcutta', 'Madras', 'Hyderabad'],\n",
              " 'USA': ['New York', 'Los Angeles', 'Chicago', 'Houston', 'Dallas']}"
            ]
          },
          "metadata": {},
          "execution_count": 14
        }
      ]
    },
    {
      "cell_type": "code",
      "source": [
        "dict1.clear()\n",
        "dict1"
      ],
      "metadata": {
        "colab": {
          "base_uri": "https://localhost:8080/"
        },
        "id": "UhRD0C4t2cjG",
        "outputId": "c48170de-d1d4-4a80-f006-931510bfbfb2"
      },
      "execution_count": 15,
      "outputs": [
        {
          "output_type": "execute_result",
          "data": {
            "text/plain": [
              "{}"
            ]
          },
          "metadata": {},
          "execution_count": 15
        }
      ]
    },
    {
      "cell_type": "code",
      "source": [
        "del dict1\n",
        "id(dict1)"
      ],
      "metadata": {
        "colab": {
          "base_uri": "https://localhost:8080/",
          "height": 187
        },
        "id": "-XdGxyXC2hVa",
        "outputId": "56709c27-0d9d-405d-a71c-ed5c7ff2db25"
      },
      "execution_count": 17,
      "outputs": [
        {
          "output_type": "error",
          "ename": "NameError",
          "evalue": "ignored",
          "traceback": [
            "\u001b[0;31m---------------------------------------------------------------------------\u001b[0m",
            "\u001b[0;31mNameError\u001b[0m                                 Traceback (most recent call last)",
            "\u001b[0;32m<ipython-input-17-928ed5ceca0c>\u001b[0m in \u001b[0;36m<module>\u001b[0;34m()\u001b[0m\n\u001b[0;32m----> 1\u001b[0;31m \u001b[0;32mdel\u001b[0m \u001b[0mdict1\u001b[0m\u001b[0;34m\u001b[0m\u001b[0;34m\u001b[0m\u001b[0m\n\u001b[0m\u001b[1;32m      2\u001b[0m \u001b[0mid\u001b[0m\u001b[0;34m(\u001b[0m\u001b[0mdict1\u001b[0m\u001b[0;34m)\u001b[0m\u001b[0;34m\u001b[0m\u001b[0;34m\u001b[0m\u001b[0m\n",
            "\u001b[0;31mNameError\u001b[0m: name 'dict1' is not defined"
          ]
        }
      ]
    },
    {
      "cell_type": "code",
      "source": [
        ""
      ],
      "metadata": {
        "id": "AfPlBb182kSM"
      },
      "execution_count": null,
      "outputs": []
    }
  ]
}